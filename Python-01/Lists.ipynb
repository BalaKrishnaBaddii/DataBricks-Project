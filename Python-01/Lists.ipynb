{
 "cells": [
  {
   "cell_type": "markdown",
   "id": "0bf3e9b3",
   "metadata": {},
   "source": [
    "### Lists"
   ]
  },
  {
   "cell_type": "code",
   "execution_count": 1,
   "id": "de10e610",
   "metadata": {},
   "outputs": [],
   "source": [
    "a = ['bala', 'Baddi',12,34.2,False]"
   ]
  },
  {
   "cell_type": "code",
   "execution_count": 3,
   "id": "2c64c9ee",
   "metadata": {},
   "outputs": [
    {
     "data": {
      "text/plain": [
       "list"
      ]
     },
     "execution_count": 3,
     "metadata": {},
     "output_type": "execute_result"
    }
   ],
   "source": [
    "type(a)"
   ]
  },
  {
   "cell_type": "code",
   "execution_count": 6,
   "id": "de3da153",
   "metadata": {},
   "outputs": [
    {
     "data": {
      "text/plain": [
       "False"
      ]
     },
     "execution_count": 6,
     "metadata": {},
     "output_type": "execute_result"
    }
   ],
   "source": [
    "### access list items...\n",
    "\n",
    "a[-1]"
   ]
  },
  {
   "cell_type": "code",
   "execution_count": 10,
   "id": "90e62810",
   "metadata": {},
   "outputs": [
    {
     "data": {
      "text/plain": [
       "['bala', 'Baddi', 12, 34.2, False]"
      ]
     },
     "execution_count": 10,
     "metadata": {},
     "output_type": "execute_result"
    }
   ],
   "source": [
    "a"
   ]
  },
  {
   "cell_type": "code",
   "execution_count": 12,
   "id": "dbaa1da1",
   "metadata": {},
   "outputs": [
    {
     "data": {
      "text/plain": [
       "['bala', 'Baddi']"
      ]
     },
     "execution_count": 12,
     "metadata": {},
     "output_type": "execute_result"
    }
   ],
   "source": [
    "a[0:2]"
   ]
  },
  {
   "cell_type": "code",
   "execution_count": 14,
   "id": "aba5cb95",
   "metadata": {},
   "outputs": [
    {
     "data": {
      "text/plain": [
       "['bala', 'Baddi', 12, 34.2, False]"
      ]
     },
     "execution_count": 14,
     "metadata": {},
     "output_type": "execute_result"
    }
   ],
   "source": [
    "a[0:]"
   ]
  },
  {
   "cell_type": "code",
   "execution_count": 19,
   "id": "6eeae005",
   "metadata": {},
   "outputs": [
    {
     "data": {
      "text/plain": [
       "[False, 34.2, 12, 'Baddi', 'bala']"
      ]
     },
     "execution_count": 19,
     "metadata": {},
     "output_type": "execute_result"
    }
   ],
   "source": [
    "a[::-1]"
   ]
  },
  {
   "cell_type": "code",
   "execution_count": 21,
   "id": "85465938",
   "metadata": {},
   "outputs": [
    {
     "data": {
      "text/plain": [
       "['bala', 'Baddi', 12, 34.2, False]"
      ]
     },
     "execution_count": 21,
     "metadata": {},
     "output_type": "execute_result"
    }
   ],
   "source": [
    "a"
   ]
  },
  {
   "cell_type": "code",
   "execution_count": 31,
   "id": "c68c8286",
   "metadata": {},
   "outputs": [
    {
     "data": {
      "text/plain": [
       "['Baddi', 12]"
      ]
     },
     "execution_count": 31,
     "metadata": {},
     "output_type": "execute_result"
    }
   ],
   "source": [
    "\n",
    "a[-4:-2]"
   ]
  },
  {
   "cell_type": "code",
   "execution_count": 33,
   "id": "979e6417",
   "metadata": {},
   "outputs": [
    {
     "data": {
      "text/plain": [
       "['bala', 'Baddi', 12, 34.2, False]"
      ]
     },
     "execution_count": 33,
     "metadata": {},
     "output_type": "execute_result"
    }
   ],
   "source": [
    "#Change List Items\n",
    "a"
   ]
  },
  {
   "cell_type": "code",
   "execution_count": 47,
   "id": "e6b3ee00",
   "metadata": {},
   "outputs": [
    {
     "data": {
      "text/plain": [
       "['bala', 'Baddi', 'Learning', 'Python', False]"
      ]
     },
     "execution_count": 47,
     "metadata": {},
     "output_type": "execute_result"
    }
   ],
   "source": [
    "a[-3:-1] = ['Learning', 'Python']\n",
    "a"
   ]
  },
  {
   "cell_type": "code",
   "execution_count": 50,
   "id": "97a46c3b",
   "metadata": {},
   "outputs": [
    {
     "data": {
      "text/plain": [
       "['bala', 'Last one', 'Last one', 'Baddi', 'Learning', 'Python', False]"
      ]
     },
     "execution_count": 50,
     "metadata": {},
     "output_type": "execute_result"
    }
   ],
   "source": [
    "a.insert(1,\"Last one\")\n",
    "a"
   ]
  },
  {
   "cell_type": "code",
   "execution_count": 51,
   "id": "44c5f493",
   "metadata": {},
   "outputs": [],
   "source": [
    "a.append(\"appned lsit\")"
   ]
  },
  {
   "cell_type": "code",
   "execution_count": 57,
   "id": "7ae5208e",
   "metadata": {},
   "outputs": [
    {
     "data": {
      "text/plain": [
       "['bala',\n",
       " 'Last one',\n",
       " 'Last one',\n",
       " 'Baddi',\n",
       " 'Learning',\n",
       " 'Python',\n",
       " False,\n",
       " 'appned lsit',\n",
       " 'Orange',\n",
       " 'RRR',\n",
       " 'Orange',\n",
       " 'RRR',\n",
       " 'Orange',\n",
       " 'RRR']"
      ]
     },
     "execution_count": 57,
     "metadata": {},
     "output_type": "execute_result"
    }
   ],
   "source": [
    "b = [\"Orange\",\"RRR\"]\n",
    "c = a+b\n",
    "c"
   ]
  },
  {
   "cell_type": "code",
   "execution_count": 59,
   "id": "8ecd796e",
   "metadata": {},
   "outputs": [
    {
     "data": {
      "text/plain": [
       "['bala',\n",
       " 'Last one',\n",
       " 'Last one',\n",
       " 'Baddi',\n",
       " 'Learning',\n",
       " 'Python',\n",
       " False,\n",
       " 'appned lsit',\n",
       " 'Orange',\n",
       " 'RRR',\n",
       " 'Orange',\n",
       " 'RRR',\n",
       " 'Orange',\n",
       " 'RRR',\n",
       " 'Orange',\n",
       " 'RRR']"
      ]
     },
     "execution_count": 59,
     "metadata": {},
     "output_type": "execute_result"
    }
   ],
   "source": [
    "a.extend(b)\n",
    "a"
   ]
  },
  {
   "cell_type": "code",
   "execution_count": 61,
   "id": "59181cef",
   "metadata": {},
   "outputs": [
    {
     "data": {
      "text/plain": [
       "'Last one'"
      ]
     },
     "execution_count": 61,
     "metadata": {},
     "output_type": "execute_result"
    }
   ],
   "source": [
    "#Remove List\n",
    "\n",
    "a.pop(1)"
   ]
  },
  {
   "cell_type": "code",
   "execution_count": 77,
   "id": "de8fb1f0",
   "metadata": {},
   "outputs": [
    {
     "data": {
      "text/plain": [
       "'Orange'"
      ]
     },
     "execution_count": 77,
     "metadata": {},
     "output_type": "execute_result"
    }
   ],
   "source": [
    "a.pop(-1)"
   ]
  },
  {
   "cell_type": "code",
   "execution_count": 79,
   "id": "f0cdd4f1",
   "metadata": {},
   "outputs": [
    {
     "data": {
      "text/plain": [
       "['bala',\n",
       " 'Last one',\n",
       " 'Baddi',\n",
       " 'Learning',\n",
       " 'Python',\n",
       " False,\n",
       " 'appned lsit',\n",
       " 'Orange',\n",
       " 'RRR']"
      ]
     },
     "execution_count": 79,
     "metadata": {},
     "output_type": "execute_result"
    }
   ],
   "source": [
    "a"
   ]
  },
  {
   "cell_type": "code",
   "execution_count": 82,
   "id": "22eb44c9",
   "metadata": {},
   "outputs": [],
   "source": [
    "b.clear()"
   ]
  },
  {
   "cell_type": "code",
   "execution_count": 86,
   "id": "abcc0de6",
   "metadata": {},
   "outputs": [],
   "source": [
    "del c"
   ]
  },
  {
   "cell_type": "code",
   "execution_count": 89,
   "id": "7c7bb941",
   "metadata": {},
   "outputs": [
    {
     "name": "stdout",
     "output_type": "stream",
     "text": [
      "bala\n",
      "Last one\n",
      "Baddi\n",
      "Learning\n",
      "Python\n",
      "False\n",
      "appned lsit\n",
      "Orange\n",
      "RRR\n"
     ]
    }
   ],
   "source": [
    "#Lopp list...\n",
    "\n",
    "for x in a: print(x)"
   ]
  },
  {
   "cell_type": "code",
   "execution_count": 93,
   "id": "a6c77eba",
   "metadata": {},
   "outputs": [
    {
     "name": "stdout",
     "output_type": "stream",
     "text": [
      "bala\n",
      "Last one\n",
      "Baddi\n",
      "Learning\n",
      "Python\n",
      "False\n",
      "appned lsit\n",
      "Orange\n",
      "RRR\n"
     ]
    }
   ],
   "source": [
    "for i in range(len(a)): print(a[i])\n"
   ]
  },
  {
   "cell_type": "code",
   "execution_count": 96,
   "id": "75640b80",
   "metadata": {},
   "outputs": [
    {
     "name": "stdout",
     "output_type": "stream",
     "text": [
      "bala\n",
      "Last one\n",
      "Baddi\n",
      "Learning\n",
      "Python\n",
      "False\n",
      "appned lsit\n",
      "Orange\n",
      "RRR\n"
     ]
    }
   ],
   "source": [
    "i=0\n",
    "while i<=len(a)-1:\n",
    "    print(a[i])\n",
    "    i+=1\n",
    "\n"
   ]
  },
  {
   "cell_type": "code",
   "execution_count": 111,
   "id": "83613ff8",
   "metadata": {},
   "outputs": [
    {
     "name": "stdout",
     "output_type": "stream",
     "text": [
      "bala\n",
      "Last one\n",
      "Baddi\n",
      "Learning\n",
      "Python\n",
      "False\n",
      "appned lsit\n",
      "Orange\n",
      "RRR\n"
     ]
    },
    {
     "data": {
      "text/plain": [
       "[None, None, None, None, None, None, None, None, None]"
      ]
     },
     "execution_count": 111,
     "metadata": {},
     "output_type": "execute_result"
    }
   ],
   "source": [
    "[print(x) for x in a]"
   ]
  },
  {
   "cell_type": "code",
   "execution_count": 120,
   "id": "c51460d1",
   "metadata": {},
   "outputs": [
    {
     "name": "stdout",
     "output_type": "stream",
     "text": [
      "balaOK\n",
      "Last oneOK\n",
      "BaddiOK\n",
      "LearningOK\n",
      "PythonOK\n",
      "FalseOK\n",
      "appned lsitOK\n",
      "OrangeOK\n",
      "RRROK\n"
     ]
    },
    {
     "data": {
      "text/plain": [
       "[None, None, None, None, None, None, None, None, None]"
      ]
     },
     "execution_count": 120,
     "metadata": {},
     "output_type": "execute_result"
    }
   ],
   "source": [
    "[print(str(x)+\"OK\") for x in a]"
   ]
  },
  {
   "cell_type": "code",
   "execution_count": 123,
   "id": "d48e9f85",
   "metadata": {},
   "outputs": [
    {
     "data": {
      "text/plain": [
       "[None, None, None, None, None, None, None, None, None]"
      ]
     },
     "execution_count": 123,
     "metadata": {},
     "output_type": "execute_result"
    }
   ],
   "source": [
    "#List Comprehention\n",
    "b = [\"Oragen\",\"Apple\",\"Black Berry\"]\n",
    "\n",
    "[b.append(i) for i in a]"
   ]
  },
  {
   "cell_type": "code",
   "execution_count": 125,
   "id": "4f20fa74",
   "metadata": {},
   "outputs": [
    {
     "name": "stdout",
     "output_type": "stream",
     "text": [
      "['Oragen', 'Apple', 'Black Berry', 'bala', 'Last one', 'Baddi', 'Learning', 'Python', False, 'appned lsit', 'Orange', 'RRR']\n"
     ]
    }
   ],
   "source": [
    "print(b)"
   ]
  },
  {
   "cell_type": "code",
   "execution_count": 129,
   "id": "c17169cd",
   "metadata": {},
   "outputs": [
    {
     "data": {
      "text/plain": [
       "['Black Berry', 'Last one', 'Learning', 'appned lsit']"
      ]
     },
     "execution_count": 129,
     "metadata": {},
     "output_type": "execute_result"
    }
   ],
   "source": [
    "d = [x for x in b if len(str(x))>=7]\n",
    "d"
   ]
  },
  {
   "cell_type": "code",
   "execution_count": 131,
   "id": "f3e1a625",
   "metadata": {},
   "outputs": [
    {
     "data": {
      "text/plain": [
       "['Accepted',\n",
       " 'Accepted',\n",
       " 'Accepted',\n",
       " 'Accepted',\n",
       " 'Accepted',\n",
       " 'Accepted',\n",
       " 'Accepted',\n",
       " 'Accepted',\n",
       " 'Accepted']"
      ]
     },
     "execution_count": 131,
     "metadata": {},
     "output_type": "execute_result"
    }
   ],
   "source": [
    "[\"Accepted\" for i in a]"
   ]
  },
  {
   "cell_type": "code",
   "execution_count": 151,
   "id": "d6b2da8a",
   "metadata": {},
   "outputs": [
    {
     "data": {
      "text/plain": [
       "['Pine Apple', 'Apple', 'black berry', 'Pine Apple', 'banana']"
      ]
     },
     "execution_count": 151,
     "metadata": {},
     "output_type": "execute_result"
    }
   ],
   "source": [
    "#return Apple instead black berry,...\n",
    "\n",
    "a = ['Orange',\"Apple\",'black berry','Orange',\"banana\"]\n",
    "\n",
    "[x if x!=\"Orange\" else \"Pine Apple\" for x in a]"
   ]
  },
  {
   "cell_type": "code",
   "execution_count": 155,
   "id": "d30d4a28",
   "metadata": {},
   "outputs": [
    {
     "data": {
      "text/plain": [
       "['Apple', 'Orange', 'Orange', 'banana', 'black berry']"
      ]
     },
     "execution_count": 155,
     "metadata": {},
     "output_type": "execute_result"
    }
   ],
   "source": [
    "#Short Lists..\n",
    "a.sort()\n",
    "a"
   ]
  },
  {
   "cell_type": "code",
   "execution_count": 156,
   "id": "049322db",
   "metadata": {},
   "outputs": [
    {
     "data": {
      "text/plain": [
       "['black berry', 'banana', 'Orange', 'Orange', 'Apple']"
      ]
     },
     "execution_count": 156,
     "metadata": {},
     "output_type": "execute_result"
    }
   ],
   "source": [
    "a.sort(reverse=True)\n",
    "a"
   ]
  },
  {
   "cell_type": "code",
   "execution_count": 210,
   "id": "f24906bb",
   "metadata": {},
   "outputs": [
    {
     "name": "stdout",
     "output_type": "stream",
     "text": [
      "[50, 51, 34, 23, 78, 22, 6, 99, 100]\n"
     ]
    }
   ],
   "source": [
    "#sort close to 50\n",
    "def myFunc(n):\n",
    "    return abs(n-50)\n",
    "\n",
    "x = [34,23,100,6,78,99,22,50,51]\n",
    "x.sort(key=myFunc)\n",
    "print(x)"
   ]
  },
  {
   "cell_type": "code",
   "execution_count": 217,
   "id": "207ecbfd",
   "metadata": {},
   "outputs": [
    {
     "data": {
      "text/plain": [
       "['apple', 'baddi', 'Bala', 'Orange']"
      ]
     },
     "execution_count": 217,
     "metadata": {},
     "output_type": "execute_result"
    }
   ],
   "source": [
    "#lower ...\n",
    "a = [\"Bala\",'baddi',\"Orange\",'apple']\n",
    "\n",
    "a.sort(key=str.lower)\n",
    "a"
   ]
  },
  {
   "cell_type": "code",
   "execution_count": 219,
   "id": "15d7df9d",
   "metadata": {},
   "outputs": [
    {
     "data": {
      "text/plain": [
       "['apple', 'baddi', 'Bala', 'Orange']"
      ]
     },
     "execution_count": 219,
     "metadata": {},
     "output_type": "execute_result"
    }
   ],
   "source": [
    "a.reverse()\n",
    "a"
   ]
  },
  {
   "cell_type": "code",
   "execution_count": 224,
   "id": "78e3b354",
   "metadata": {},
   "outputs": [],
   "source": [
    "#Copy Lists()\n",
    "a = ['bala','baddi',\"Orange\",'Apple']"
   ]
  },
  {
   "cell_type": "code",
   "execution_count": 225,
   "id": "d55a8d6f",
   "metadata": {},
   "outputs": [
    {
     "data": {
      "text/plain": [
       "['bala', 'baddi', 'Orange', 'Apple']"
      ]
     },
     "execution_count": 225,
     "metadata": {},
     "output_type": "execute_result"
    }
   ],
   "source": [
    "b = a.copy()\n",
    "b"
   ]
  },
  {
   "cell_type": "code",
   "execution_count": 230,
   "id": "a389ed41",
   "metadata": {},
   "outputs": [
    {
     "data": {
      "text/plain": [
       "['Orange', 'Balu', 'Apple', 1, 2, 'Three']"
      ]
     },
     "execution_count": 230,
     "metadata": {},
     "output_type": "execute_result"
    }
   ],
   "source": [
    "# Join lists...\n",
    "a = [\"Orange\",'Balu',\"Apple\"]\n",
    "b = [1,2,'Three']\n",
    "\n",
    "c = a+b\n",
    "c"
   ]
  },
  {
   "cell_type": "code",
   "execution_count": 231,
   "id": "c9b3de4e",
   "metadata": {},
   "outputs": [
    {
     "data": {
      "text/plain": [
       "['Orange', 'Balu', 'Apple', [1, 2, 'Three']]"
      ]
     },
     "execution_count": 231,
     "metadata": {},
     "output_type": "execute_result"
    }
   ],
   "source": [
    "a.append(b)\n",
    "a"
   ]
  },
  {
   "cell_type": "code",
   "execution_count": 232,
   "id": "0af57079",
   "metadata": {},
   "outputs": [
    {
     "data": {
      "text/plain": [
       "['Orange', 'Balu', 'Apple', [1, 2, 'Three'], 1, 2, 'Three']"
      ]
     },
     "execution_count": 232,
     "metadata": {},
     "output_type": "execute_result"
    }
   ],
   "source": [
    "a.extend(b)\n",
    "a"
   ]
  },
  {
   "cell_type": "code",
   "execution_count": null,
   "id": "b39aa60d",
   "metadata": {},
   "outputs": [],
   "source": []
  }
 ],
 "metadata": {
  "kernelspec": {
   "display_name": "Python 3",
   "language": "python",
   "name": "python3"
  },
  "language_info": {
   "codemirror_mode": {
    "name": "ipython",
    "version": 3
   },
   "file_extension": ".py",
   "mimetype": "text/x-python",
   "name": "python",
   "nbconvert_exporter": "python",
   "pygments_lexer": "ipython3",
   "version": "3.12.2"
  }
 },
 "nbformat": 4,
 "nbformat_minor": 5
}
