{
 "cells": [
  {
   "cell_type": "markdown",
   "id": "0d342fcb",
   "metadata": {},
   "source": [
    "### Python divides the operators in the following groups:\n",
    "\n",
    "    1. Arithmetic operators\n",
    "    2. Assignment operators\n",
    "    3.Comparison operators\n",
    "    4. Logical operators\n",
    "    5. Identity operators\n",
    "    6. Membership operators\n",
    "    7. Bitwise operators\n"
   ]
  },
  {
   "cell_type": "code",
   "execution_count": 4,
   "id": "f5d6f4db",
   "metadata": {},
   "outputs": [
    {
     "name": "stdout",
     "output_type": "stream",
     "text": [
      "12\n",
      "8\n",
      "20\n",
      "3.3333333333333335\n",
      "0\n",
      "100\n",
      "3\n"
     ]
    }
   ],
   "source": [
    "#arthmitics operaors...\n",
    "a = 10\n",
    "b = 2\n",
    "\n",
    "print(a+b) #addition\n",
    "print(a-b) #substraction\n",
    "print(a*b) #multiplication\n",
    "print(a/3) #division\n",
    "print(a%b) #modulus\n",
    "print(a**2) #exponential\n",
    "print(a//3) #Floor division"
   ]
  },
  {
   "cell_type": "code",
   "execution_count": 25,
   "id": "18507221",
   "metadata": {},
   "outputs": [
    {
     "name": "stdout",
     "output_type": "stream",
     "text": [
      "5\n",
      "2\n",
      "6\n",
      "0\n",
      "33\n",
      "0\n"
     ]
    }
   ],
   "source": [
    "## Assignment Operations\n",
    "\n",
    "a = 2\n",
    "b = 4\n",
    "\n",
    "a+=3\n",
    "print(a)\n",
    "a-=3 \n",
    "print(a)\n",
    "a*=3\n",
    "print(a)\n",
    "a%=3\n",
    "print(a%3)\n",
    "a = 100\n",
    "a//=3\n",
    "print(a)\n",
    "b&=10\n",
    "print(b)\n",
    "\n"
   ]
  },
  {
   "cell_type": "code",
   "execution_count": 33,
   "id": "93887ed9",
   "metadata": {},
   "outputs": [
    {
     "name": "stdout",
     "output_type": "stream",
     "text": [
      "False\n",
      "True\n",
      "True\n",
      "False\n",
      "True\n",
      "False\n"
     ]
    }
   ],
   "source": [
    "#Comparision Operatiors...\n",
    "print(a==b)\n",
    "print(a!=b)\n",
    "print(a>b)\n",
    "print(a<b)\n",
    "print(a>=b)\n",
    "print(a<=b)"
   ]
  },
  {
   "cell_type": "code",
   "execution_count": 39,
   "id": "8cb599c5",
   "metadata": {},
   "outputs": [
    {
     "name": "stdout",
     "output_type": "stream",
     "text": [
      "0\n",
      "33\n",
      "True\n"
     ]
    }
   ],
   "source": [
    "#Python logical Operators...\n",
    "print(a and b)\n",
    "print(a or b)\n",
    "print(not b)"
   ]
  },
  {
   "cell_type": "code",
   "execution_count": 44,
   "id": "f4e78741",
   "metadata": {},
   "outputs": [
    {
     "data": {
      "text/plain": [
       "True"
      ]
     },
     "execution_count": 44,
     "metadata": {},
     "output_type": "execute_result"
    }
   ],
   "source": [
    "#identitty operatiors...\n",
    "a is b\n",
    "b is not a"
   ]
  },
  {
   "cell_type": "code",
   "execution_count": 48,
   "id": "e9cb2df4",
   "metadata": {},
   "outputs": [
    {
     "data": {
      "text/plain": [
       "True"
      ]
     },
     "execution_count": 48,
     "metadata": {},
     "output_type": "execute_result"
    }
   ],
   "source": [
    "#Membership Operators..\n",
    "x = ['bala','krishna']\n",
    "'bala' in x"
   ]
  },
  {
   "cell_type": "code",
   "execution_count": 72,
   "id": "5409996f",
   "metadata": {},
   "outputs": [
    {
     "data": {
      "text/plain": [
       "0"
      ]
     },
     "execution_count": 72,
     "metadata": {},
     "output_type": "execute_result"
    }
   ],
   "source": [
    "#Bitwise operators...\n",
    "1&1\n",
    "0|1\n",
    "1^1\n",
    "~10\n",
    "1<<2\n",
    "2>>3"
   ]
  }
 ],
 "metadata": {
  "kernelspec": {
   "display_name": "Python 3",
   "language": "python",
   "name": "python3"
  },
  "language_info": {
   "codemirror_mode": {
    "name": "ipython",
    "version": 3
   },
   "file_extension": ".py",
   "mimetype": "text/x-python",
   "name": "python",
   "nbconvert_exporter": "python",
   "pygments_lexer": "ipython3",
   "version": "3.12.2"
  }
 },
 "nbformat": 4,
 "nbformat_minor": 5
}
